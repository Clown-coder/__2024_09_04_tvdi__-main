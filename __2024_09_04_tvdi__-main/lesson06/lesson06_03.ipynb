{
 "cells": [
  {
   "cell_type": "code",
   "execution_count": 1,
   "metadata": {},
   "outputs": [],
   "source": [
    "sql = '''\n",
    "\n",
    "CREATE TABLE IF NOT EXISTS records (\n",
    "\tid INTEGER NOT NULL PRIMARY KEY AUTOINCREMENT,\n",
    "\tsitename TEXT NOT NULL,\n",
    "\tcounty TEXT,\n",
    "\taqi INTEGER,\n",
    "\tstatus TEXT,\n",
    "\tpm25 NUMERIC,\n",
    "\tdate TEXT,\n",
    "\tlat NUMERIC,\n",
    "\tlon NUMERIC\n",
    ");'''\n",
    "\n",
    "\n",
    "import sqlite3\n",
    "\n",
    "#connect to SQLITE database\n",
    "conn = sqlite3.connect('AQI_00.db')\n",
    "\n",
    "#create a cursor object\n",
    "cursor = conn.cursor()\n",
    "\n",
    "#create a table\n",
    "cursor.execute(sql)\n",
    "\n",
    "#commit changes and close the connection\n",
    "conn.commit()\n",
    "cursor.close()\n",
    "conn.close()\n",
    "\n",
    "\n"
   ]
  },
  {
   "cell_type": "code",
   "execution_count": 2,
   "metadata": {},
   "outputs": [],
   "source": [
    "insertSQL = '''\n",
    "INSERT INTO records(sitename,county,aqi,status,pm25,date,lat,lon)\n",
    "VALUES ('屏東(枋山)','屏東縣',29,'良好',0,'2024-10-31 11:00',22.260899,120.651472)\n",
    "\n",
    "\n",
    "'''\n",
    "import sqlite3\n",
    "\n",
    "#connect to SQLITE database\n",
    "conn = sqlite3.connect('AQI_00.db')\n",
    "\n",
    "#create a cursor object\n",
    "cursor = conn.cursor()\n",
    "\n",
    "#create a table\n",
    "cursor.execute(insertSQL)\n",
    "\n",
    "#commit changes and close the connection\n",
    "conn.commit()\n",
    "cursor.close()\n",
    "conn.close()\n"
   ]
  },
  {
   "cell_type": "code",
   "execution_count": 4,
   "metadata": {},
   "outputs": [],
   "source": [
    "import sqlite3\n",
    "\n",
    "# 連接到 SQLite 數據庫\n",
    "conn = sqlite3.connect('AQI_00.db')\n",
    "\n",
    "# 創建游標對象\n",
    "cursor = conn.cursor()\n",
    "deleteSQL = '''\n",
    "DELETE FROM records\n",
    "WHERE sitename = '屏東(枋山)' AND date = '2024-10-31 11:00';\n",
    "'''\n",
    "cursor.execute(deleteSQL)\n",
    "\n",
    "# 提交變更並關閉連接\n",
    "conn.commit()\n",
    "cursor.close()\n",
    "conn.close()"
   ]
  },
  {
   "cell_type": "code",
   "execution_count": 1,
   "metadata": {},
   "outputs": [
    {
     "name": "stdout",
     "output_type": "stream",
     "text": [
      "淡水 不存在於資料庫中。\n"
     ]
    }
   ],
   "source": [
    "import sqlite3\n",
    "\n",
    "def check_sitename_exists(sitename: str) -> bool:\n",
    "    conn = sqlite3.connect('AQI_00.db')\n",
    "    cursor = conn.cursor()\n",
    "\n",
    "    query = 'SELECT EXISTS(SELECT 1 FROM records WHERE sitename = ?);'\n",
    "    cursor.execute(query, (sitename,))\n",
    "    exists = cursor.fetchone()[0]  # fetchone() 會返回一行，並取得第一個元素\n",
    "\n",
    "    cursor.close()\n",
    "    conn.close()\n",
    "\n",
    "    return exists == 1  # 如果存在，返回 True，否則返回 False\n",
    "\n",
    "# 使用範例\n",
    "sitename_to_check = '淡水'  # 替換為你要查詢的站點\n",
    "if check_sitename_exists(sitename_to_check):\n",
    "    print(f\"{sitename_to_check} 存在於資料庫中。\")\n",
    "else:\n",
    "    print(f\"{sitename_to_check} 不存在於資料庫中。\")"
   ]
  },
  {
   "cell_type": "code",
   "execution_count": 6,
   "metadata": {},
   "outputs": [
    {
     "name": "stdout",
     "output_type": "stream",
     "text": [
      "Fetched sitenames: [('2024-10-31 15:00',), ('2024-10-31 14:00',), ('2024-10-31 13:00',), ('2024-10-31 12:00',), ('2024-10-31 11:00',), ('2024-10-31 10:00',)]\n",
      "['2024-10-31 15:00', '2024-10-31 14:00', '2024-10-31 13:00', '2024-10-31 12:00', '2024-10-31 11:00', '2024-10-31 10:00']\n"
     ]
    }
   ],
   "source": [
    "def get_all_sitenames():\n",
    "    conn = sqlite3.connect('AQI_00.db')\n",
    "    cursor = conn.cursor()\n",
    "    cursor.execute('SELECT DISTINCT sitename FROM records')\n",
    "    sitenames = cursor.fetchall()\n",
    "    print(f'Fetched sitenames: {sitenames}')\n",
    "    cursor.close()\n",
    "    conn.close()\n",
    "    return [sitename[0] for sitename in sitenames]\n",
    "\n",
    "# 列印所有 sitename\n",
    "print(get_all_sitenames())"
   ]
  },
  {
   "cell_type": "code",
   "execution_count": 5,
   "metadata": {},
   "outputs": [],
   "source": [
    "sql = '''PRAGMA table_info(records);'''\n",
    "import sqlite3\n",
    "\n",
    "#connect to SQLITE database\n",
    "conn = sqlite3.connect('AQI_00.db')\n",
    "\n",
    "#create a cursor object\n",
    "cursor = conn.cursor()\n",
    "\n",
    "#create a table\n",
    "cursor.execute(sql)\n",
    "\n",
    "#commit changes and close the connection\n",
    "conn.commit()\n",
    "cursor.close()\n",
    "conn.close()\n"
   ]
  },
  {
   "cell_type": "code",
   "execution_count": 7,
   "metadata": {},
   "outputs": [
    {
     "name": "stdout",
     "output_type": "stream",
     "text": [
      "所有資料已刪除。\n"
     ]
    }
   ],
   "source": [
    "import sqlite3\n",
    "\n",
    "def delete_all_data():\n",
    "    conn = sqlite3.connect('AQI_00.db')\n",
    "    cursor = conn.cursor()\n",
    "\n",
    "    cursor.execute('DELETE FROM RECORDS;')  # 刪除所有資料\n",
    "    conn.commit()  # 提交變更\n",
    "\n",
    "    cursor.close()\n",
    "    conn.close()\n",
    "    print(\"所有資料已刪除。\")\n",
    "\n",
    "if __name__ == '__main__':\n",
    "    delete_all_data()"
   ]
  }
 ],
 "metadata": {
  "kernelspec": {
   "display_name": "Python 3",
   "language": "python",
   "name": "python3"
  },
  "language_info": {
   "codemirror_mode": {
    "name": "ipython",
    "version": 3
   },
   "file_extension": ".py",
   "mimetype": "text/x-python",
   "name": "python",
   "nbconvert_exporter": "python",
   "pygments_lexer": "ipython3",
   "version": "3.11.10"
  }
 },
 "nbformat": 4,
 "nbformat_minor": 2
}
