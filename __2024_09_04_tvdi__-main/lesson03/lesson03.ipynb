{
 "cells": [
  {
   "cell_type": "code",
   "execution_count": 3,
   "metadata": {},
   "outputs": [
    {
     "name": "stdout",
     "output_type": "stream",
     "text": [
      "<csv.DictReader object at 0x000002BB0E0DF0D0> <class 'csv.DictReader'>\n",
      "{'name': 'John', 'age': '23', 'city': 'New York'} <class 'dict'>\n",
      "{'name': 'Jane', 'age': '29', 'city': 'Los Angeles'} <class 'dict'>\n",
      "{'name': 'Doe', 'age': '25', 'city': 'Chicago'} <class 'dict'>\n",
      "{'name': 'Anna', 'age': '22', 'city': 'Houston'} <class 'dict'>\n"
     ]
    }
   ],
   "source": [
    "import csv\n",
    "with open('student.csv','r',encoding=\"utf-8\",newline=\"\") as file:\n",
    "    reader_dict = csv.DictReader(file)\n",
    "    print(reader_dict,type(reader_dict))\n",
    "    for item in reader_dict:\n",
    "        print(item,type(item))"
   ]
  },
  {
   "cell_type": "code",
   "execution_count": 5,
   "metadata": {},
   "outputs": [
    {
     "name": "stdout",
     "output_type": "stream",
     "text": [
      "<csv.DictReader object at 0x000002BB0E13D610> <class 'csv.DictReader'>\n",
      "{'name': 'Jane', 'age': '29', 'city': 'Los Angeles'} <class 'dict'>\n",
      "<class 'str'>\n"
     ]
    }
   ],
   "source": [
    "import csv\n",
    "with open('student.csv','r',encoding=\"utf-8\",newline=\"\") as file:\n",
    "    reader_dict = csv.DictReader(file)\n",
    "    print(reader_dict,type(reader_dict))\n",
    "    for item in reader_dict:\n",
    "        if int(item['age'])>25:\n",
    "            print(item,type(item))\n",
    "            print(type(item['age']))"
   ]
  },
  {
   "cell_type": "markdown",
   "metadata": {},
   "source": [
    "### generator\n",
    "* generator 跟 list  不同\n",
    "  * generator: 不會佔記憶體，使用過就消失\n",
    "  * list: 直到應用程式結束"
   ]
  },
  {
   "cell_type": "code",
   "execution_count": 6,
   "metadata": {},
   "outputs": [
    {
     "name": "stdout",
     "output_type": "stream",
     "text": [
      "<csv.DictReader object at 0x000002BB0E16C7D0> <class 'csv.DictReader'>\n",
      "{'name': 'Jane', 'age': '29', 'city': 'Los Angeles'} <class 'dict'>\n",
      "<class 'str'>\n"
     ]
    }
   ],
   "source": [
    "import csv\n",
    "with open('student.csv','r',encoding=\"utf-8\",newline=\"\") as file:\n",
    "    reader_dict = csv.DictReader(file)\n",
    "    print(reader_dict,type(reader_dict))\n",
    "    for item in reader_dict:\n",
    "        if int(item['age'])>25:\n",
    "            print(item,type(item))\n",
    "            print(type(item['age']))\n",
    "\n",
    "    for item in reader_dict:\n",
    "        print(item)\n",
    "    #因為 csv.DictReader是屬於 generator 所以 前面執行後\n",
    "    #就消失了 導致後面不會執行"
   ]
  },
  {
   "cell_type": "code",
   "execution_count": 7,
   "metadata": {},
   "outputs": [
    {
     "name": "stdout",
     "output_type": "stream",
     "text": [
      "[{'name': 'John', 'age': '23', 'city': 'New York'}, {'name': 'Jane', 'age': '29', 'city': 'Los Angeles'}, {'name': 'Doe', 'age': '25', 'city': 'Chicago'}, {'name': 'Anna', 'age': '22', 'city': 'Houston'}] <class 'list'>\n",
      "{'name': 'Jane', 'age': '29', 'city': 'Los Angeles'}\n",
      "[{'name': 'Jane', 'age': '29', 'city': 'Los Angeles'}]\n"
     ]
    }
   ],
   "source": [
    "import csv\n",
    "with open('student.csv','r',encoding=\"utf-8\",newline=\"\") as file:\n",
    "    reader_dict = list(csv.DictReader(file))\n",
    "    print(reader_dict,type(reader_dict))\n",
    "    \n",
    "\n",
    "\n",
    "\n",
    "    new_list = []\n",
    "    for item in reader_dict:\n",
    "        if int(item['age']) > 25:\n",
    "            print(item)\n",
    "            new_list.append(item)\n",
    "print(new_list)"
   ]
  },
  {
   "cell_type": "code",
   "execution_count": 8,
   "metadata": {},
   "outputs": [
    {
     "name": "stdout",
     "output_type": "stream",
     "text": [
      "[{'name': 'Jane', 'age': '29', 'city': 'Los Angeles'}]\n"
     ]
    }
   ],
   "source": [
    "#因為 new_list 是全域變數 所以 整個文件都可以使用\n",
    "print(new_list)"
   ]
  },
  {
   "cell_type": "markdown",
   "metadata": {},
   "source": [
    "### save file"
   ]
  },
  {
   "cell_type": "code",
   "execution_count": 9,
   "metadata": {},
   "outputs": [],
   "source": [
    "with open('filtered_data.csv','w',encoding='utf-8',newline=\"\") as f:\n",
    "    fieldnames = ['name','age','city']\n",
    "    dict_writer = csv.DictWriter(f,fieldnames=fieldnames)\n",
    "    dict_writer.writeheader()\n",
    "    for item in new_list:\n",
    "        dict_writer.writerow(item)\n",
    "    "
   ]
  }
 ],
 "metadata": {
  "kernelspec": {
   "display_name": "venv1",
   "language": "python",
   "name": "python3"
  },
  "language_info": {
   "codemirror_mode": {
    "name": "ipython",
    "version": 3
   },
   "file_extension": ".py",
   "mimetype": "text/x-python",
   "name": "python",
   "nbconvert_exporter": "python",
   "pygments_lexer": "ipython3",
   "version": "3.11.10"
  }
 },
 "nbformat": 4,
 "nbformat_minor": 2
}
