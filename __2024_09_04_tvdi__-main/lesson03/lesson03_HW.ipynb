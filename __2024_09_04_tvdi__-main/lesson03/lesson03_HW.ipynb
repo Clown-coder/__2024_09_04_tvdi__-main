{
 "cells": [
  {
   "cell_type": "markdown",
   "metadata": {},
   "source": [
    "url = 'https://data.moi.gov.tw/MoiOD/System/DownloadFile.aspx?DATA=5481753E-52AF-40DA-9A8A-9E192B245E13'\n",
    "\n",
    "#請存檔為a1.csv"
   ]
  },
  {
   "cell_type": "code",
   "execution_count": null,
   "metadata": {},
   "outputs": [],
   "source": [
    "import requests\n",
    "from requests import Response\n",
    "\n",
    "url = 'https://data.moi.gov.tw/MoiOD/System/DownloadFile.aspx?DATA=5481753E-52AF-40DA-9A8A-9E192B245E13'\n",
    "\n",
    "response:Response = requests.get(url)\n"
   ]
  },
  {
   "cell_type": "code",
   "execution_count": 2,
   "metadata": {},
   "outputs": [],
   "source": [
    "import csv\n",
    "data_lines = response.text.splitlines()\n",
    "with open('a1.csv','w',encoding='utf-8',newline='') as file:\n",
    "    save = csv.writer(file)\n",
    "    \n",
    "    for line in data_lines:\n",
    "        row = line.split(',')\n",
    "        save.writerow(row)"
   ]
  },
  {
   "cell_type": "markdown",
   "metadata": {},
   "source": [
    "url = 'https://data.moi.gov.tw/MoiOD/System/DownloadFile.aspx?DATA=44E49A04-8DE8-4E74-B872-BE322286C940'\n",
    "\n",
    "#請存檔為a2.json"
   ]
  },
  {
   "cell_type": "code",
   "execution_count": 3,
   "metadata": {},
   "outputs": [],
   "source": [
    "import requests\n",
    "from requests import Response\n",
    "\n",
    "url = 'https://data.moi.gov.tw/MoiOD/System/DownloadFile.aspx?DATA=44E49A04-8DE8-4E74-B872-BE322286C940'\n",
    "\n",
    "response:Response = requests.get(url)"
   ]
  },
  {
   "cell_type": "code",
   "execution_count": 4,
   "metadata": {},
   "outputs": [],
   "source": [
    "import json\n",
    "\n",
    "data_lines2 = response.text.splitlines()\n",
    "data_list1 = []\n",
    "\n",
    "headers = data_lines2[0].split(',')\n",
    "\n",
    "for line in data_lines2[1:]:\n",
    "    values = line.split(',')\n",
    "    row_dict = dict(zip(headers,values))\n",
    "    data_list1.append(row_dict)\n",
    "\n",
    "with open('a2.json','w',encoding='utf-8') as json_file:\n",
    "    json.dump(data_list1,json_file,ensure_ascii=False,indent=4)\n",
    "    "
   ]
  },
  {
   "cell_type": "markdown",
   "metadata": {},
   "source": [
    "url = 'https://media.gq.com.tw/photos/6666a988382caac8581d3969/16:9/w_2240,c_limit/08120706-hierarchy-101-unit-s30j2v030_cover_1600x1067%20%E6%8B%B7%E8%B2%9D.jpg'\n",
    "\n",
    "#利用requests下載圖片\n",
    "#請存檔為a3.jpg"
   ]
  },
  {
   "cell_type": "code",
   "execution_count": 6,
   "metadata": {},
   "outputs": [
    {
     "name": "stdout",
     "output_type": "stream",
     "text": [
      "Download Complete\n"
     ]
    }
   ],
   "source": [
    "import requests\n",
    "\n",
    "url = 'https://media.gq.com.tw/photos/6666a988382caac8581d3969/16:9/w_2240,c_limit/08120706-hierarchy-101-unit-s30j2v030_cover_1600x1067%20%E6%8B%B7%E8%B2%9D.jpg'\n",
    "response = requests.get(url)\n",
    "\n",
    "if response.status_code==200:\n",
    "    with open('a3.jpg','wb') as file:\n",
    "        file.write(response.content)\n",
    "    print(\"Download Complete\")\n",
    "else:\n",
    "    print(\"Download Fail\")"
   ]
  }
 ],
 "metadata": {
  "kernelspec": {
   "display_name": "Python 3",
   "language": "python",
   "name": "python3"
  },
  "language_info": {
   "codemirror_mode": {
    "name": "ipython",
    "version": 3
   },
   "file_extension": ".py",
   "mimetype": "text/x-python",
   "name": "python",
   "nbconvert_exporter": "python",
   "pygments_lexer": "ipython3",
   "version": "3.11.10"
  }
 },
 "nbformat": 4,
 "nbformat_minor": 2
}
