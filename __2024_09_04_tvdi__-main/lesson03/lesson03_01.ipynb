{
 "cells": [
  {
   "cell_type": "markdown",
   "metadata": {},
   "source": [
    "* ## class"
   ]
  },
  {
   "cell_type": "code",
   "execution_count": 29,
   "metadata": {},
   "outputs": [],
   "source": [
    "#class Person:    也可以這樣寫\n",
    "# def __init__(self,name:str,age:int): #可寫可不寫 type hint\n",
    "#        self.name = name\n",
    "#        self.age = age\n",
    "\n",
    "class Person(object):\n",
    "    def __init__(self,name,age):\n",
    "        self.name = name\n",
    "        self.age = age\n",
    "    #自訂實體被print()時的輸出\n",
    "    def __repr__(self) -> str:      #預設傳出值是字串\n",
    "        return f'My name is {self.name}\\nMy age is {self.age}'\n",
    "    "
   ]
  },
  {
   "cell_type": "code",
   "execution_count": 30,
   "metadata": {},
   "outputs": [
    {
     "name": "stdout",
     "output_type": "stream",
     "text": [
      "<class '__main__.Person'>\n",
      "Ken\n",
      "20\n",
      "My name is Ken\n",
      "My age is 20\n",
      "======================\n",
      "<class '__main__.Person'>\n",
      "Ben\n",
      "25 <class 'int'>\n",
      "My name is Ben\n",
      "My age is 25\n"
     ]
    }
   ],
   "source": [
    "#初始化(initial)\n",
    "p1 = Person(\"Ken\",20)\n",
    "print(type(p1))\n",
    "print(p1.name)\n",
    "print(p1.age)\n",
    "print(p1)\n",
    "\n",
    "print(\"======================\")\n",
    "p2 =Person(\"Ben\",25)\n",
    "print(type(p2))\n",
    "print(p2.name)\n",
    "print(p2.age,type(p2.age))\n",
    "print(p2)"
   ]
  },
  {
   "cell_type": "code",
   "execution_count": 31,
   "metadata": {},
   "outputs": [
    {
     "name": "stdout",
     "output_type": "stream",
     "text": [
      "Ken 20\n",
      "<class 'str'> <class 'int'>\n",
      "==========================\n",
      "Ben 25\n"
     ]
    }
   ],
   "source": [
    "print(p1.name,p1.age)\n",
    "print(type(p1.name),type(p1.age))\n",
    "print('==========================')\n",
    "print(p2.name,p2.age)\n",
    "\n"
   ]
  },
  {
   "cell_type": "code",
   "execution_count": 32,
   "metadata": {},
   "outputs": [
    {
     "name": "stdout",
     "output_type": "stream",
     "text": [
      "Help on Person in module __main__ object:\n",
      "\n",
      "class Person(builtins.object)\n",
      " |  Person(name, age)\n",
      " |  \n",
      " |  Methods defined here:\n",
      " |  \n",
      " |  __init__(self, name, age)\n",
      " |      Initialize self.  See help(type(self)) for accurate signature.\n",
      " |  \n",
      " |  __repr__(self) -> str\n",
      " |      Return repr(self).\n",
      " |  \n",
      " |  ----------------------------------------------------------------------\n",
      " |  Data descriptors defined here:\n",
      " |  \n",
      " |  __dict__\n",
      " |      dictionary for instance variables\n",
      " |  \n",
      " |  __weakref__\n",
      " |      list of weak references to the object\n",
      "\n"
     ]
    }
   ],
   "source": [
    "#寫出p1 的來源\n",
    "help(p1)"
   ]
  },
  {
   "cell_type": "code",
   "execution_count": 24,
   "metadata": {},
   "outputs": [
    {
     "name": "stdout",
     "output_type": "stream",
     "text": [
      "Help on class Person in module __main__:\n",
      "\n",
      "class Person(builtins.object)\n",
      " |  Person(name, age)\n",
      " |  \n",
      " |  Methods defined here:\n",
      " |  \n",
      " |  __init__(self, name, age)\n",
      " |      Initialize self.  See help(type(self)) for accurate signature.\n",
      " |  \n",
      " |  ----------------------------------------------------------------------\n",
      " |  Data descriptors defined here:\n",
      " |  \n",
      " |  __dict__\n",
      " |      dictionary for instance variables\n",
      " |  \n",
      " |  __weakref__\n",
      " |      list of weak references to the object\n",
      "\n"
     ]
    }
   ],
   "source": [
    "help(Person)"
   ]
  },
  {
   "cell_type": "code",
   "execution_count": 45,
   "metadata": {},
   "outputs": [],
   "source": [
    "#正常情形 不可有重複名稱的 clss\n",
    "#剛好 jupyter可以 然後 後執行 的會取代 前面的\n",
    "\n",
    "#通常 __name 有加 __ 會視為私人的 \n",
    "#通常 沒有 __  就是 public attribute\n",
    "#搭配 property 就不會被修改\n",
    "# 所有在class 裡面的 def 都一定要有一個 self 的參數\n",
    "\n",
    "class Person(object):\n",
    "    def __init__(self,name,age):\n",
    "        self.__name = name\n",
    "        self.__age = age\n",
    "    #自訂實體被print()時的輸出\n",
    "    def __repr__(self) -> str:      #預設傳出值是字串\n",
    "        return f'My name is {self.name}\\nMy age is {self.age}'\n",
    "    \n",
    "    @property\n",
    "    def name(self):\n",
    "        return self.__name\n",
    "    def age(self):\n",
    "        return self.__age\n",
    "    \n",
    "    #如果下面這行執行時，當有人想要修改 就會類似跳出通知\n",
    "    @name.setter\n",
    "    def name(self,n):\n",
    "        print(f'Not allow to change name to {n}')"
   ]
  },
  {
   "cell_type": "markdown",
   "metadata": {},
   "source": [
    "## property\n",
    "* 只會傳出資料，所以就不會被更改了\n"
   ]
  },
  {
   "cell_type": "code",
   "execution_count": 43,
   "metadata": {},
   "outputs": [
    {
     "name": "stdout",
     "output_type": "stream",
     "text": [
      "Not allow to change name to jimmy\n",
      "Ken\n"
     ]
    }
   ],
   "source": [
    "p1 = Person('Ken',20)\n",
    "p1.name= \"jimmy\"\n",
    "print(p1.name)"
   ]
  },
  {
   "cell_type": "code",
   "execution_count": 44,
   "metadata": {},
   "outputs": [],
   "source": [
    "#這樣就實現 property 可以被setter 修改\n",
    "# class Person(object):\n",
    "#     def __init__(self, name, age):\n",
    "#         self.__name = name\n",
    "#         self.__age = age\n",
    "\n",
    "#     def __repr__(self) -> str:\n",
    "#         return f'My name is {self.name}\\nMy age is {self.age}'\n",
    "    \n",
    "#     # Getter for name\n",
    "#     @property\n",
    "#     def name(self):\n",
    "#         return self.__name\n",
    "\n",
    "#     # Setter for name\n",
    "#     @name.setter\n",
    "#     def name(self, new_name):\n",
    "#         self.__name = new_name  # 这里正确修改 __name\n",
    "\n",
    "#     # Getter for age\n",
    "#     @property\n",
    "#     def age(self):\n",
    "#         return self.__age\n",
    "\n",
    "#     # Optional setter for age if needed\n",
    "#     @age.setter\n",
    "#     def age(self, new_age):\n",
    "#         self.__age = new_age\n"
   ]
  },
  {
   "cell_type": "markdown",
   "metadata": {},
   "source": [
    "變成private 就要透過 getter 跟 setter 實現"
   ]
  },
  {
   "cell_type": "code",
   "execution_count": 48,
   "metadata": {},
   "outputs": [],
   "source": [
    "class Person(object):\n",
    "    def __init__(self,name,age):\n",
    "        self.__name = name\n",
    "        self.__age = age\n",
    "    #自訂實體被print()時的輸出\n",
    "    def __repr__(self) -> str:      #預設傳出值是字串\n",
    "        return f'My name is {self.name}\\nMy age is {self.age}'\n",
    "    \n",
    "    @property\n",
    "    def name(self)->str:\n",
    "        return self.__name\n",
    "    @property\n",
    "    def age(self)->int:\n",
    "        return self.__age\n",
    "    \n",
    "    #如果下面這行執行時，當有人想要修改 就會類似跳出通知\n",
    "    @name.setter\n",
    "    def name(self,n):\n",
    "        print(f'Not allow to change name to {n}')\n",
    "    @age.setter\n",
    "    def age(self,a):\n",
    "        if a > 100 or a<0:\n",
    "            print(\"Not available\")\n",
    "        else:\n",
    "            self.__age = a"
   ]
  },
  {
   "cell_type": "code",
   "execution_count": 50,
   "metadata": {},
   "outputs": [
    {
     "name": "stdout",
     "output_type": "stream",
     "text": [
      "Not allow to change name to jimmy\n",
      "Ken\n",
      "Not available\n",
      "20\n",
      "55\n"
     ]
    }
   ],
   "source": [
    "p1 = Person('Ken',20)\n",
    "p1.name= \"jimmy\"\n",
    "print(p1.name)\n",
    "p1.age=222\n",
    "print(p1.age)\n",
    "p1.age = 55\n",
    "print(p1.age)"
   ]
  }
 ],
 "metadata": {
  "kernelspec": {
   "display_name": "venv1",
   "language": "python",
   "name": "python3"
  },
  "language_info": {
   "codemirror_mode": {
    "name": "ipython",
    "version": 3
   },
   "file_extension": ".py",
   "mimetype": "text/x-python",
   "name": "python",
   "nbconvert_exporter": "python",
   "pygments_lexer": "ipython3",
   "version": "3.11.10"
  }
 },
 "nbformat": 4,
 "nbformat_minor": 2
}
