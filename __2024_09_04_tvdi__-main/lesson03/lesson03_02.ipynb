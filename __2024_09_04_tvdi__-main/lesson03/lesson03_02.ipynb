{
 "cells": [
  {
   "cell_type": "code",
   "execution_count": 1,
   "metadata": {},
   "outputs": [],
   "source": [
    "class Person(object):\n",
    "    #自訂的init,建立內建的attribute\n",
    "    def __init__(self,name:str,age:int): #type hint\n",
    "        self.__name = name #private attribute\n",
    "        self.__age = age #private attribute\n",
    "\n",
    "    #自訂實體被print()時的輸出\n",
    "    def __repr__(self)->str:\n",
    "        return f'我的名字是:{self.name}\\n我的age是{self.age}'\n",
    "    \n",
    "    @property\n",
    "    def name(self)->str:\n",
    "        return self.__name\n",
    "    \n",
    "    @name.setter\n",
    "    def name(self,n):\n",
    "        print(f\"不可以改名為{n}\")\n",
    "\n",
    "    @property\n",
    "    def age(self)->int: #getter\n",
    "        return self.__age\n",
    "    \n",
    "    @age.setter\n",
    "    def age(self,value): #setter\n",
    "        if value > 100 or value < 0:\n",
    "            print(\"不合法的值\")\n",
    "        else:\n",
    "            self.__age = value"
   ]
  },
  {
   "cell_type": "markdown",
   "metadata": {},
   "source": [
    "## 繼承\n",
    "1. 要做父類別的初始化 ( 使用 super())\n",
    "\n",
    "* 繼承 主要是要擴充用"
   ]
  },
  {
   "cell_type": "code",
   "execution_count": 2,
   "metadata": {},
   "outputs": [],
   "source": [
    "# class Student(Person):\n",
    "#     def __init__(self, name: str, age: int):\n",
    "#         super().__init__(name=name, age=age)\n",
    "#引述名稱 如果有照順序就可以寫成下方那樣\n",
    "\n",
    "class Student(Person):      #繼承Person\n",
    "    def __init__(self, name: str, age: int):\n",
    "        super().__init__(name, age) #執行父類別的初始化"
   ]
  },
  {
   "cell_type": "code",
   "execution_count": 4,
   "metadata": {},
   "outputs": [
    {
     "name": "stdout",
     "output_type": "stream",
     "text": [
      "我的名字是:jump\n",
      "我的age是50\n"
     ]
    }
   ],
   "source": [
    "stu1 = Student(\"jump\",50)\n",
    "type(stu1)\n",
    "print(stu1)"
   ]
  },
  {
   "cell_type": "code",
   "execution_count": 5,
   "metadata": {},
   "outputs": [],
   "source": [
    "class Student(Person):      \n",
    "    def __init__(self, name: str, age: int,chinese:int=0, english:int=0, math:int=0): #可以寫入預設值\n",
    "        super().__init__(name, age) \n",
    "        self.chinese=chinese\n",
    "        self.english =english\n",
    "        self.math = math"
   ]
  },
  {
   "cell_type": "code",
   "execution_count": 6,
   "metadata": {},
   "outputs": [
    {
     "name": "stdout",
     "output_type": "stream",
     "text": [
      "我的名字是:Simon\n",
      "我的age是56\n",
      "0\n",
      "0\n",
      "0\n"
     ]
    }
   ],
   "source": [
    "stu1 = Student(\"Simon\",56)\n",
    "print(stu1)\n",
    "print(stu1.chinese)\n",
    "print(stu1.english)\n",
    "print(stu1.math)\n"
   ]
  },
  {
   "cell_type": "code",
   "execution_count": 9,
   "metadata": {},
   "outputs": [],
   "source": [
    "class Student(Person):      \n",
    "    def __init__(self, name: str, age: int,chinese:int=0, english:int=0, math:int=0): #可以寫入預設值\n",
    "        super().__init__(name, age) \n",
    "        self.chinese=chinese\n",
    "        self.english =english\n",
    "        self.math = math\n",
    "\n",
    "    @property\n",
    "    def total(self)->int:\n",
    "        return self.chinese + self.english +self.math\n",
    "    \n",
    "    #instance method 實體方法\n",
    "    #代表要用 實體 stu1 來執行 (要加括號，因為是一個方法)\n",
    "    def average(self)->float:\n",
    "        return round(self.total/3,2)\n",
    "\n"
   ]
  },
  {
   "cell_type": "code",
   "execution_count": 12,
   "metadata": {},
   "outputs": [
    {
     "name": "stdout",
     "output_type": "stream",
     "text": [
      "我的名字是:Jason\n",
      "我的age是42\n",
      "78\n",
      "79\n",
      "55\n",
      "212\n",
      "70.67\n"
     ]
    }
   ],
   "source": [
    "stu1 = Student(\"Jason\",42,78,79,55)\n",
    "print(stu1)\n",
    "print(stu1.chinese)     #attribute\n",
    "print(stu1.english)     #attribute\n",
    "print(stu1.math)        #attribute\n",
    "print(stu1.total)       #property\n",
    "print(stu1.average())   #instance method()"
   ]
  },
  {
   "cell_type": "markdown",
   "metadata": {},
   "source": [
    "## class method \n",
    "只有class 可以用  \n",
    "classmethod 在Student裡面，因此 Person不能直接呼叫  \n",
    "是用Student呼叫，而非用 實體stu1 來呼叫  "
   ]
  },
  {
   "cell_type": "code",
   "execution_count": 20,
   "metadata": {},
   "outputs": [],
   "source": [
    "class Student(Person):   \n",
    "    @classmethod\n",
    "    def echo(cls):\n",
    "        print(\"Hello! I am a StudentClass\")\n",
    "\n",
    "    def __init__(self, name: str, age: int,chinese:int=0, english:int=0, math:int=0): #可以寫入預設值\n",
    "        super().__init__(name, age) \n",
    "        self.chinese=chinese\n",
    "        self.english =english\n",
    "        self.math = math\n",
    "\n",
    "    @property\n",
    "    def total(self)->int:\n",
    "        return self.chinese + self.english +self.math\n",
    "    \n",
    "    #instance method 實體方法\n",
    "    #代表要用 實體 stu1 來執行 (要加括號，因為是一個方法)\n",
    "    def average(self)->float:\n",
    "        return round(self.total/3,2)"
   ]
  },
  {
   "cell_type": "code",
   "execution_count": 21,
   "metadata": {},
   "outputs": [
    {
     "name": "stdout",
     "output_type": "stream",
     "text": [
      "Hello! I am a StudentClass\n"
     ]
    }
   ],
   "source": [
    "Student.echo()"
   ]
  }
 ],
 "metadata": {
  "kernelspec": {
   "display_name": "venv1",
   "language": "python",
   "name": "python3"
  },
  "language_info": {
   "codemirror_mode": {
    "name": "ipython",
    "version": 3
   },
   "file_extension": ".py",
   "mimetype": "text/x-python",
   "name": "python",
   "nbconvert_exporter": "python",
   "pygments_lexer": "ipython3",
   "version": "3.11.10"
  }
 },
 "nbformat": 4,
 "nbformat_minor": 2
}
