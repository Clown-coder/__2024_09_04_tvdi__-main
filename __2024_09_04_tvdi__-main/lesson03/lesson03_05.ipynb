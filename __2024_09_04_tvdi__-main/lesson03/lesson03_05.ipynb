{
 "cells": [
  {
   "cell_type": "markdown",
   "metadata": {},
   "source": [
    "* Download file\n",
    "* 執行過了表示有安裝成功\n",
    "* 說明書裡面有一段 requests.Response   \n",
    "  就可以引用，或者可以用 : 把type標出來\n",
    "* 說明書有一個property text可以將檔案弄下來\n",
    "* **karwgs 沒有限制引述值的數量"
   ]
  },
  {
   "cell_type": "code",
   "execution_count": null,
   "metadata": {},
   "outputs": [],
   "source": [
    "import requests\n",
    "from requests import Response\n",
    "\n",
    "url = 'https://data.moi.gov.tw/MoiOD/System/DownloadFile.aspx?DATA=5481753E-52AF-40DA-9A8A-9E192B245E13'\n",
    "\n",
    "#response 是 Response的實體\n",
    "response:Response = requests.get(url)\n",
    "print(response.text)\n"
   ]
  },
  {
   "cell_type": "code",
   "execution_count": 7,
   "metadata": {},
   "outputs": [],
   "source": [
    "import csv\n",
    "data_lines = response.text.splitlines()\n",
    "with open('a1.csv','w',encoding='utf-8',newline='') as file:\n",
    "    save = csv.writer(file)\n",
    "    \n",
    "    for line in data_lines:\n",
    "        row = line.split(',')\n",
    "        save.writerow(row)"
   ]
  }
 ],
 "metadata": {
  "kernelspec": {
   "display_name": "Python 3",
   "language": "python",
   "name": "python3"
  },
  "language_info": {
   "codemirror_mode": {
    "name": "ipython",
    "version": 3
   },
   "file_extension": ".py",
   "mimetype": "text/x-python",
   "name": "python",
   "nbconvert_exporter": "python",
   "pygments_lexer": "ipython3",
   "version": "3.11.10"
  }
 },
 "nbformat": 4,
 "nbformat_minor": 2
}
