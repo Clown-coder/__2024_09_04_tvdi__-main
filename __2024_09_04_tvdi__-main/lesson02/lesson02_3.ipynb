{
 "cells": [
  {
   "cell_type": "markdown",
   "metadata": {},
   "source": [
    "* 使用python 內建的csv模組取文件  \n",
    "* print 出 dictionary 格式"
   ]
  },
  {
   "cell_type": "code",
   "execution_count": 2,
   "metadata": {},
   "outputs": [
    {
     "name": "stdout",
     "output_type": "stream",
     "text": [
      "{'name': 'John', 'age': '23', 'city': 'New York'}\n",
      "{'name': 'Jane', 'age': '29', 'city': 'Los Angles'}\n",
      "{'name': 'Doe', 'age': '25', 'city': 'Chicago'}\n",
      "{'name': 'Anna', 'age': '22', 'city': 'Houston'}\n"
     ]
    }
   ],
   "source": [
    "import csv\n",
    "data_list= []\n",
    "with open('student.csv','r',encoding='utf-8') as file:\n",
    "    csv_reader = csv.DictReader(file)\n",
    "\n",
    "    for row in csv_reader:\n",
    "        data_list.append(dict(row))\n",
    "for data in data_list:\n",
    "    print(data)\n",
    "    "
   ]
  },
  {
   "cell_type": "markdown",
   "metadata": {},
   "source": [
    "* 篩選內容: 年齡大於25的人"
   ]
  },
  {
   "cell_type": "code",
   "execution_count": 3,
   "metadata": {},
   "outputs": [
    {
     "name": "stdout",
     "output_type": "stream",
     "text": [
      "{'name': 'Jane', 'age': '29', 'city': 'Los Angles'}\n"
     ]
    }
   ],
   "source": [
    "import csv\n",
    "filtered_data = []\n",
    "\n",
    "with open('student.csv','r',encoding='utf-8') as file:\n",
    "    csv_reader = csv.DictReader(file)\n",
    "    for row in csv_reader:\n",
    "        if int(row['age']) >25:\n",
    "            filtered_data.append(dict(row))\n",
    "\n",
    "for data in filtered_data:\n",
    "    print(data)"
   ]
  },
  {
   "cell_type": "markdown",
   "metadata": {},
   "source": [
    "* 輸出篩選後的結果儲存至新 **csv 文件** (filtered_data.csv)"
   ]
  },
  {
   "cell_type": "code",
   "execution_count": 5,
   "metadata": {},
   "outputs": [
    {
     "name": "stdout",
     "output_type": "stream",
     "text": [
      "The result has been saved in filtered_student.csv\n"
     ]
    }
   ],
   "source": [
    "with open('filtered_data.csv','w',newline=\"\",encoding='utf-8') as new_file:\n",
    "    fieldnames= [\"name\",'age','city']\n",
    "    csv_writer = csv.DictWriter(new_file,fieldnames=fieldnames)\n",
    "\n",
    "    csv_writer.writeheader()\n",
    "\n",
    "    for data in filtered_data:\n",
    "        csv_writer.writerow(data)\n",
    "print(\"The result has been saved in filtered_student.csv\")"
   ]
  }
 ],
 "metadata": {
  "kernelspec": {
   "display_name": "venv1",
   "language": "python",
   "name": "python3"
  },
  "language_info": {
   "codemirror_mode": {
    "name": "ipython",
    "version": 3
   },
   "file_extension": ".py",
   "mimetype": "text/x-python",
   "name": "python",
   "nbconvert_exporter": "python",
   "pygments_lexer": "ipython3",
   "version": "3.11.10"
  }
 },
 "nbformat": 4,
 "nbformat_minor": 2
}
